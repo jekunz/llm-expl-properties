{
 "cells": [
  {
   "cell_type": "code",
   "execution_count": 1,
   "id": "63bafdf0",
   "metadata": {},
   "outputs": [],
   "source": [
    "import json\n",
    "\n",
    "with open(\"/Users/kunje68/Desktop/Properties Explanations/anno1.json\", \"r\") as handle:\n",
    "    anno1 = json.load(handle)"
   ]
  },
  {
   "cell_type": "code",
   "execution_count": 2,
   "id": "8fb29e67",
   "metadata": {},
   "outputs": [],
   "source": [
    "with open(\"/Users/kunje68/Desktop/Properties Explanations/anno2.json\", \"r\") as handle:\n",
    "    anno2 = json.load(handle)"
   ]
  },
  {
   "cell_type": "code",
   "execution_count": 3,
   "id": "c03807c9",
   "metadata": {},
   "outputs": [],
   "source": [
    "with open(\"/Users/kunje68/Desktop/Properties Explanations/anno3.json\", \"r\") as handle:\n",
    "    anno3 = json.load(handle)"
   ]
  },
  {
   "cell_type": "code",
   "execution_count": 4,
   "id": "f07e6795",
   "metadata": {},
   "outputs": [],
   "source": [
    "questions = ['Does the output contain an explanation for the prediction?', \n",
    "'Would you give an explanation/justify your reasoning if you were asked this question by a friend?',\n",
    "'If there is an explanation: Does the explanation list contributing factors?',\n",
    "'If there is an explanation: Does the explanation include subjective or biased criteria?',\n",
    "'If there is an explanation: Does the explanation include illustrative elements (e.g. examples)?',\n",
    "'If there is an explanation: Is the explanation misleading (e.g. arguing for a label that is wrong)?']"
   ]
  },
  {
   "cell_type": "code",
   "execution_count": 6,
   "id": "7eb15ef4",
   "metadata": {
    "scrolled": true
   },
   "outputs": [
    {
     "name": "stdout",
     "output_type": "stream",
     "text": [
      "Does the output contain an explanation for the prediction?\n",
      "127 73 0 200\n",
      "Would you give an explanation/justify your reasoning if you were asked this question by a friend?\n",
      "149 51 0 200\n",
      "If there is an explanation: Does the explanation refer to commonsense concepts that are taken as given?\n",
      "97 30 73 200\n",
      "If there is an explanation: Does the explanation list contributing factors?\n",
      "61 66 73 200\n",
      "If there is an explanation: Does the explanation include subjective or biased criteria?\n",
      "8 119 73 200\n",
      "If there is an explanation: Does the explanation include illustrative elements (e.g. examples)?\n",
      "58 69 73 200\n",
      "If there is an explanation: Is the explanation misleading (e.g. arguing for a label that is wrong)?\n",
      "1 125 74 200\n"
     ]
    }
   ],
   "source": [
    "# stats for all samples, per rater\n",
    "def print_stats(questions, file): \n",
    "    for q in questions: \n",
    "        print(q)\n",
    "        p = 0\n",
    "        n = 0\n",
    "        na = 0\n",
    "        total = 0\n",
    "\n",
    "        for i in range(len(file)):\n",
    "            try: \n",
    "                if file[i]['data']['all_data'].endswith(q):\n",
    "                    total += 1\n",
    "                    if file[i]['annotations'][0]['result'][0]['value']['choices'][0] == \"Yes\":\n",
    "                        p += 1\n",
    "                    if file[i]['annotations'][0]['result'][0]['value']['choices'][0] == \"No\":\n",
    "                        n += 1\n",
    "                    if file[i]['annotations'][0]['result'][0]['value']['choices'][0] == \"N/A\":\n",
    "                        na += 1\n",
    "            except IndexError:\n",
    "                na += 1\n",
    "\n",
    "        print(p, n, na, total)\n",
    "        \n",
    "print_stats(questions, anno1)"
   ]
  },
  {
   "cell_type": "code",
   "execution_count": 7,
   "id": "eac26e6a",
   "metadata": {
    "scrolled": true
   },
   "outputs": [
    {
     "name": "stdout",
     "output_type": "stream",
     "text": [
      "Does the output contain an explanation for the prediction?\n",
      "135 64 1 200\n",
      "Would you give an explanation/justify your reasoning if you were asked this question by a friend?\n",
      "126 74 0 200\n",
      "If there is an explanation: Does the explanation refer to commonsense concepts that are taken as given?\n",
      "3 132 65 200\n",
      "If there is an explanation: Does the explanation list contributing factors?\n",
      "98 31 71 200\n",
      "If there is an explanation: Does the explanation include subjective or biased criteria?\n",
      "7 128 65 200\n",
      "If there is an explanation: Does the explanation include illustrative elements (e.g. examples)?\n",
      "125 8 67 200\n",
      "If there is an explanation: Is the explanation misleading (e.g. arguing for a label that is wrong)?\n",
      "5 129 66 200\n"
     ]
    }
   ],
   "source": [
    "print_stats(questions, anno2)"
   ]
  },
  {
   "cell_type": "code",
   "execution_count": 8,
   "id": "729efb01",
   "metadata": {},
   "outputs": [
    {
     "name": "stdout",
     "output_type": "stream",
     "text": [
      "Does the output contain an explanation for the prediction?\n",
      "124 76 0 200\n",
      "Would you give an explanation/justify your reasoning if you were asked this question by a friend?\n",
      "100 100 0 200\n",
      "If there is an explanation: Does the explanation refer to commonsense concepts that are taken as given?\n",
      "113 11 76 200\n",
      "If there is an explanation: Does the explanation list contributing factors?\n",
      "79 45 76 200\n",
      "If there is an explanation: Does the explanation include subjective or biased criteria?\n",
      "3 121 76 200\n",
      "If there is an explanation: Does the explanation include illustrative elements (e.g. examples)?\n",
      "67 57 76 200\n",
      "If there is an explanation: Is the explanation misleading (e.g. arguing for a label that is wrong)?\n",
      "0 123 77 200\n"
     ]
    }
   ],
   "source": [
    "print_stats(questions, anno3)"
   ]
  },
  {
   "cell_type": "code",
   "execution_count": 8,
   "id": "01d296a3",
   "metadata": {},
   "outputs": [],
   "source": [
    "with open(\"/Users/kunje68/Downloads/expl_out.json\", \"r\") as handle:\n",
    "    parsed = json.load(handle)"
   ]
  },
  {
   "cell_type": "code",
   "execution_count": 6,
   "id": "5ca67b1c",
   "metadata": {},
   "outputs": [],
   "source": [
    "# categories as determined in a manual annotation\n",
    "# 'lists' and 'facts' were separate; we merged them because the content was very similar\n",
    "cats = ['class', 'list', 'list', 'class', 'list', 'order', 'predict', 'math', 'list', 'list', 'list', 'class', 'list', 'fact', 'math', 'list', 'list', 'math', 'fact', 'list', 'class', 'list', 'class', 'code', 'math', 'list', 'list', 'class', 'list', 'math', 'class', 'list', 'math', 'code', 'list', 'list', 'code', 'class', 'list', 'list', 'class', 'list', 'list', 'list', 'code', 'list', 'list', 'class', 'list', 'list', 'class', 'class', 'class', 'list', 'list', 'list', 'list', 'class', 'class', 'code', 'list', 'math', 'class', 'list', 'class', 'math', 'math', 'code', 'code', 'list', 'list', 'code', 'order', 'class', 'list', 'planning', 'math', 'math', 'code', 'math', 'class', 'list', 'example', 'class', 'grammar', 'math', 'grammar', 'math', 'math', 'math', 'math', 'math', 'list', 'list', 'list', 'list', 'list', 'list', 'list', 'list', 'list', 'grammar', 'list', 'code', 'code', 'grammar', 'code', 'code', 'code', 'code', 'list', 'code', 'list', 'list', 'order', 'list', 'list', 'list', 'list', 'grammar', 'list', 'code', 'math', 'list', 'math', 'grammar', 'math', 'code', 'class', 'grammar', 'list', 'order', 'code', 'class', 'class', 'grammar', 'grammar', 'code', 'grammar', 'grammar', 'list', 'math', 'list', 'class', 'grammar', 'class', 'code', 'list', 'list', 'list', 'list', 'list', 'code', 'list', 'list', 'list', 'class', 'grammar', 'list', 'list', 'grammar', 'list', 'math', 'list', 'list', 'code', 'math', 'list', 'list', 'math', 'list', 'code', 'list', 'grammar', 'list', 'math', 'list', 'list', 'class', 'list', 'list', 'list', 'class', 'list', 'grammar', 'grammar', 'list', 'list', 'fact', 'list', 'list', 'code', 'code', 'grammar', 'code', 'list', 'class', 'list', 'list', 'grammar']"
   ]
  },
  {
   "cell_type": "code",
   "execution_count": 9,
   "id": "28764d64",
   "metadata": {},
   "outputs": [],
   "source": [
    "# map instructions to their annotated categories\n",
    "annotated_cats = {}\n",
    "for i in range(len(parsed)): \n",
    "    if cats[i] != 'fact':\n",
    "        annotated_cats[parsed[i]['instruction']] = cats[i]\n",
    "    else: annotated_cats[parsed[i]['instruction']] = 'list'\n",
    "    \n",
    "#print(annotated_cats)"
   ]
  },
  {
   "cell_type": "code",
   "execution_count": 10,
   "id": "fd0e1083",
   "metadata": {},
   "outputs": [
    {
     "name": "stdout",
     "output_type": "stream",
     "text": [
      "math Does the output contain an explanation for the prediction? 19\n",
      "math Would you give an explanation/justify your reasoning if you were asked this question by a friend? 11\n",
      "math If there is an explanation: Does the explanation list contributing factors? 4\n",
      "math If there is an explanation: Does the explanation include subjective or biased criteria? 0\n",
      "math If there is an explanation: Does the explanation include illustrative elements (e.g. examples)? 3\n",
      "math If there is an explanation: Is the explanation misleading (e.g. arguing for a label that is wrong)? 0\n",
      "code Does the output contain an explanation for the prediction? 17\n",
      "code Would you give an explanation/justify your reasoning if you were asked this question by a friend? 12\n",
      "code If there is an explanation: Does the explanation list contributing factors? 3\n",
      "code If there is an explanation: Does the explanation include subjective or biased criteria? 0\n",
      "code If there is an explanation: Does the explanation include illustrative elements (e.g. examples)? 10\n",
      "code If there is an explanation: Is the explanation misleading (e.g. arguing for a label that is wrong)? 0\n",
      "class Does the output contain an explanation for the prediction? 11\n",
      "class Would you give an explanation/justify your reasoning if you were asked this question by a friend? 12\n",
      "class If there is an explanation: Does the explanation list contributing factors? 5\n",
      "class If there is an explanation: Does the explanation include subjective or biased criteria? 0\n",
      "class If there is an explanation: Does the explanation include illustrative elements (e.g. examples)? 3\n",
      "class If there is an explanation: Is the explanation misleading (e.g. arguing for a label that is wrong)? 0\n",
      "list Does the output contain an explanation for the prediction? 80\n",
      "list Would you give an explanation/justify your reasoning if you were asked this question by a friend? 78\n",
      "list If there is an explanation: Does the explanation list contributing factors? 64\n",
      "list If there is an explanation: Does the explanation include subjective or biased criteria? 1\n",
      "list If there is an explanation: Does the explanation include illustrative elements (e.g. examples)? 63\n",
      "list If there is an explanation: Is the explanation misleading (e.g. arguing for a label that is wrong)? 0\n",
      "grammar Does the output contain an explanation for the prediction? 6\n",
      "grammar Would you give an explanation/justify your reasoning if you were asked this question by a friend? 7\n",
      "grammar If there is an explanation: Does the explanation list contributing factors? 1\n",
      "grammar If there is an explanation: Does the explanation include subjective or biased criteria? 0\n",
      "grammar If there is an explanation: Does the explanation include illustrative elements (e.g. examples)? 4\n",
      "grammar If there is an explanation: Is the explanation misleading (e.g. arguing for a label that is wrong)? 0\n"
     ]
    }
   ],
   "source": [
    "# get category-specific stats, per rater\n",
    "def print_cat_stats(questions, annotated_cats, file): \n",
    "    coll_lsts = {}\n",
    "    for cat in ['math', 'code', 'class', 'list', 'grammar']: \n",
    "        coll_lsts[cat] = {}\n",
    "    for q in questions: \n",
    "        #print(q)\n",
    "        for cat in ['math', 'code', 'class', 'list', 'grammar']: \n",
    "            #print(cat)\n",
    "            cat_lst = []\n",
    "            total = 0\n",
    "            for i in range(1400):\n",
    "                try: \n",
    "                    if file[i]['data']['all_data'].endswith(q) and annotated_cats[file[i]['data']['instruction']] == cat:\n",
    "                        total += 1\n",
    "                        if file[i]['annotations'][0]['result'][0]['value']['choices'][0] == \"Yes\":\n",
    "                            cat_lst.append(i)\n",
    "                except IndexError:\n",
    "                    pass\n",
    "            coll_lsts[cat][q] = cat_lst\n",
    "    return coll_lsts\n",
    "\n",
    "d1 = print_cat_stats(questions, annotated_cats, anno1)\n",
    "d2 = print_cat_stats(questions, annotated_cats, anno2)\n",
    "d3 = print_cat_stats(questions, annotated_cats, anno3)\n",
    "\n",
    "# number of samples where >=2 raters agree\n",
    "for cat in ['math', 'code', 'class', 'list', 'grammar']: \n",
    "    for q in questions: \n",
    "        lst = d1[cat][q] + d2[cat][q] + d3[cat][q]  \n",
    "\n",
    "        lst2 = list(set([x for x in lst if lst.count(x)>1]))\n",
    "        print(cat, q, len(lst2))"
   ]
  },
  {
   "cell_type": "code",
   "execution_count": 14,
   "id": "7b26adc2",
   "metadata": {},
   "outputs": [
    {
     "name": "stdout",
     "output_type": "stream",
     "text": [
      "all Does the output contain an explanation for the prediction? 137\n",
      "all Would you give an explanation/justify your reasoning if you were asked this question by a friend? 125\n",
      "all If there is an explanation: Does the explanation list contributing factors? 79\n",
      "all If there is an explanation: Does the explanation include subjective or biased criteria? 1\n",
      "all If there is an explanation: Does the explanation include illustrative elements (e.g. examples)? 86\n",
      "all If there is an explanation: Is the explanation misleading (e.g. arguing for a label that is wrong)? 0\n"
     ]
    }
   ],
   "source": [
    "# get summary over all categories \n",
    "def print_all_stats(questions, file): \n",
    "    coll_lsts = {}\n",
    "    for q in questions: \n",
    "        cat_lst = []\n",
    "        total = 0\n",
    "        for i in range(1400):\n",
    "            try: \n",
    "                if file[i]['data']['all_data'].endswith(q):\n",
    "                    total += 1\n",
    "                    if file[i]['annotations'][0]['result'][0]['value']['choices'][0] == \"Yes\":\n",
    "                        cat_lst.append(i)\n",
    "            except IndexError:\n",
    "                pass\n",
    "            coll_lsts[q] = cat_lst\n",
    "    return coll_lsts\n",
    "\n",
    "d1 = print_all_stats(questions, anno1)\n",
    "d2 = print_all_stats(questions, anno2)\n",
    "d3 = print_all_stats(questions, anno3)\n",
    "\n",
    "# number of samples where >=2 raters agree\n",
    "for q in questions: \n",
    "    lst = d1[q] + d2[q] + d3[q]  \n",
    "\n",
    "    lst2 = list(set([x for x in lst if lst.count(x)>1]))\n",
    "    print(cat, q, len(lst2))"
   ]
  },
  {
   "cell_type": "code",
   "execution_count": 13,
   "id": "33c86c39",
   "metadata": {},
   "outputs": [
    {
     "name": "stdout",
     "output_type": "stream",
     "text": [
      "0.5810469726705211\n",
      "0.48533300365523596\n",
      "0.7004727969157798\n"
     ]
    }
   ],
   "source": [
    "# correlation between q1 and q2, per rater.\n",
    "from sklearn.metrics import matthews_corrcoef\n",
    "\n",
    "def correlation(file): \n",
    "    human = []\n",
    "    llm = []\n",
    "    for i in range(len(file)):\n",
    "        if file[i]['data']['all_data'].endswith('Does the output contain an explanation for the prediction?'):\n",
    "            if file[i]['annotations'][0]['result'][0]['value']['choices'][0] == \"Yes\":\n",
    "                llm.append(1)\n",
    "            else:\n",
    "                llm.append(0)\n",
    "        if file[i]['data']['all_data'].endswith('Would you give an explanation/justify your reasoning if you were asked this question by a friend?'):\n",
    "            if file[i]['annotations'][0]['result'][0]['value']['choices'][0] == \"Yes\":\n",
    "                human.append(1)\n",
    "            else:\n",
    "                human.append(0)\n",
    "\n",
    "    print(matthews_corrcoef(llm, human))\n",
    "correlation(anno1)\n",
    "correlation(anno2)\n",
    "correlation(anno3)"
   ]
  },
  {
   "cell_type": "code",
   "execution_count": 14,
   "id": "f03a5101",
   "metadata": {},
   "outputs": [
    {
     "name": "stdout",
     "output_type": "stream",
     "text": [
      "math\n",
      "76.88461538461539\n",
      "code\n",
      "109.77777777777777\n",
      "class\n",
      "30.20689655172414\n",
      "list\n",
      "168.08695652173913\n",
      "grammar\n",
      "24.263157894736842\n",
      "all cats\n",
      "112.76683937823834\n"
     ]
    }
   ],
   "source": [
    "# avg token number per category\n",
    "def cat_lens(annotated_cats, file): \n",
    "    all_avg = 0\n",
    "    all_total = 0\n",
    "    for c in ['math', 'code', 'class', 'list', 'grammar']: \n",
    "        print(c)\n",
    "        avg = 0\n",
    "        total = 0\n",
    "        for i in range(1400):\n",
    "            if annotated_cats[file[i]['data']['instruction']] == c:\n",
    "                avg += len(file[i]['data']['output'].split())\n",
    "                total += 1\n",
    "        print(avg/total)\n",
    "        all_avg += avg\n",
    "        all_total += total\n",
    "        \n",
    "    print('all cats')\n",
    "    print(all_avg/all_total)\n",
    "cat_lens(annotated_cats, anno1)"
   ]
  },
  {
   "cell_type": "code",
   "execution_count": 15,
   "id": "6456a69a",
   "metadata": {},
   "outputs": [
    {
     "name": "stdout",
     "output_type": "stream",
     "text": [
      "Does the output contain an explanation for the prediction?\n",
      "0.7324069923800987\n",
      "0.6344283553058137\n",
      "0.758548422678138\n",
      "0.7079147267826513\n",
      "Would you give an explanation/justify your reasoning if you were asked this question by a friend?\n",
      "0.32385972954389186\n",
      "0.27\n",
      "0.56\n",
      "0.37526518518518515\n",
      "If there is an explanation: Does the explanation refer to commonsense concepts that are taken as given?\n",
      "0.020615932807330317\n",
      "0.33978234582829503\n",
      "-0.015539689206216067\n",
      "-0.21747459603531571\n",
      "If there is an explanation: Does the explanation list contributing factors?\n",
      "0.4166500697072295\n",
      "0.39904799682665615\n",
      "0.47848537005163516\n",
      "0.41631233088519526\n",
      "If there is an explanation: Does the explanation include subjective or biased criteria?\n",
      "0.16129032258064513\n",
      "-0.03409090909090917\n",
      "-0.040000000000000036\n",
      "0.03987651144841775\n",
      "If there is an explanation: Does the explanation include illustrative elements (e.g. examples)?\n",
      "0.09530928798355454\n",
      "0.3016949152542373\n",
      "0.11892343000208627\n",
      "0.10000942595909135\n",
      "If there is an explanation: Is the explanation misleading (e.g. arguing for a label that is wrong)?\n",
      "0.0\n",
      "nan\n",
      "0.0\n",
      "-0.010033444816053505\n"
     ]
    },
    {
     "name": "stderr",
     "output_type": "stream",
     "text": [
      "/usr/local/lib/python3.9/site-packages/sklearn/metrics/_classification.py:641: RuntimeWarning: invalid value encountered in true_divide\n",
      "  k = np.sum(w_mat * confusion) / np.sum(w_mat * expected)\n"
     ]
    }
   ],
   "source": [
    "# get krippendorff's alpha and pairwise cohen kappa\n",
    "from sklearn.metrics import cohen_kappa_score\n",
    "import krippendorff_alpha\n",
    "\n",
    "def kappa_score(file1,file2,file3,questions): \n",
    "    for q in questions:\n",
    "        print(q)\n",
    "        l1 = []\n",
    "        l2 = []\n",
    "        l3 = []\n",
    "        for i in range(len(file1)):\n",
    "            try: \n",
    "                if (file1[i]['annotations'][0]['result'][0]['value']['choices'][0] != \"N/A\") and (file2[i]['annotations'][0]['result'][0]['value']['choices'][0] != \"N/A\") and  (file3[i]['annotations'][0]['result'][0]['value']['choices'][0] != \"N/A\"):\n",
    "                    if file1[i]['data']['all_data'].endswith(q):\n",
    "                        if file1[i]['annotations'][0]['result'][0]['value']['choices'][0] == \"Yes\":\n",
    "                            l1.append(1)\n",
    "                        else:\n",
    "                            l1.append(0)\n",
    "                    if file2[i]['data']['all_data'].endswith(q):\n",
    "                        if file2[i]['annotations'][0]['result'][0]['value']['choices'][0] == \"Yes\":\n",
    "                            l2.append(1)\n",
    "                        else:\n",
    "                            l2.append(0)\n",
    "                    if file3[i]['data']['all_data'].endswith(q):\n",
    "                        if file3[i]['annotations'][0]['result'][0]['value']['choices'][0] == \"Yes\":\n",
    "                            l3.append(1)\n",
    "                        else:\n",
    "                            l3.append(0)\n",
    "            except IndexError:\n",
    "                pass\n",
    "\n",
    "        print(cohen_kappa_score(l1, l2))\n",
    "        print(cohen_kappa_score(l1, l3))\n",
    "        print(cohen_kappa_score(l2, l3))\n",
    "        print(krippendorff_alpha.krippendorff_alpha([l1, l2, l3]))\n",
    "kappa_score(anno1, anno2, anno3, questions)"
   ]
  },
  {
   "cell_type": "code",
   "execution_count": 16,
   "id": "cf318c4e",
   "metadata": {},
   "outputs": [
    {
     "data": {
      "image/png": "[encoded data removed]",
      "text/plain": [
       "<Figure size 432x288 with 1 Axes>"
      ]
     },
     "metadata": {
      "needs_background": "light"
     },
     "output_type": "display_data"
    }
   ],
   "source": [
    "import matplotlib.pyplot as plt\n",
    "from matplotlib.ticker import MaxNLocator\n",
    "\n",
    "group1 = [1, 2, 3]\n",
    "data1 = [127, 135, 124]\n",
    "\n",
    "group2 = [1, 2, 3]\n",
    "data2 = [149, 126, 100]\n",
    "\n",
    "bar_width = 0.35\n",
    "\n",
    "fig, ax = plt.subplots(figsize=(6, 4))  \n",
    "\n",
    "bar1 = [x - bar_width/2 for x in group1]\n",
    "bar2 = [x + bar_width/2 for x in group2]\n",
    "\n",
    "rects1 = ax.bar(bar1, data1, bar_width, label='Q1', color='#6DB4EE', alpha=0.7)\n",
    "rects2 = ax.bar(bar2, data2, bar_width, label='Q2', color= '#003366', alpha=0.7)\n",
    "\n",
    "ax.set_xlabel('Annotator', fontname='Times New Roman', fontsize=16)\n",
    "ax.set_ylabel('Number of Yes-Answers', fontname='Times New Roman', fontsize=16)\n",
    "ax.set_yticks([0,50,100,150,200])\n",
    "ax.set_xticks(group1)  \n",
    "ax.set_xticklabels(['A1', 'A2', 'A3'])\n",
    "ax.xaxis.set_major_locator(MaxNLocator(integer=True))  \n",
    "#ax.set_xticklabels(group1, fontname='Times New Roman', fontsize=10)\n",
    "ax.legend()\n",
    "\n",
    "plt.tight_layout()\n",
    "#plt.savefig('histogram_q12.pdf', format='pdf')\n",
    "\n",
    "plt.show()"
   ]
  },
  {
   "cell_type": "code",
   "execution_count": 17,
   "id": "68483869",
   "metadata": {},
   "outputs": [
    {
     "data": {
      "image/png": "[encoded data removed]",
      "text/plain": [
       "<Figure size 432x288 with 1 Axes>"
      ]
     },
     "metadata": {
      "needs_background": "light"
     },
     "output_type": "display_data"
    }
   ],
   "source": [
    "group1 = [1,2,3,4,5]\n",
    "group2 = [1,2,3,4,5]\n",
    "group3 = [1,2,3,4,5]\n",
    "\n",
    "data1 = [100*97/135, 100*61/135, 100*8/135, 100*58/135, 100*1/135]\n",
    "data2 = [100*3/127, 100*98/127, 100*7/127, 100*125/127, 100*5/127]\n",
    "data3 = [100*113/124, 100*79/124, 100*3/124, 100*67/124, 100*0/124]\n",
    "\n",
    "bar_width = 0.28\n",
    "fig, ax = plt.subplots(figsize=(6, 4))  \n",
    "\n",
    "bar1 = [x - bar_width for x in group1]\n",
    "bar2 = [x for x in group2]\n",
    "bar3 = [x + bar_width for x in group3]\n",
    "\n",
    "rects1 = ax.bar(bar1, data1, bar_width, label='A1', color='#6DB4EE', alpha=0.7)\n",
    "rects2 = ax.bar(bar2, data2, bar_width, label='A2', color='#1F77B4', alpha=0.7)\n",
    "rects3 = ax.bar(bar3, data3, bar_width, label='A3', color='#003366', alpha=0.7)\n",
    "\n",
    "ax.set_xlabel('Question', fontname='Times New Roman', fontsize=16)\n",
    "ax.set_ylabel('% of Yes-Answers', fontname='Times New Roman', fontsize=16)\n",
    "#ax.set_title('Histogram with Two Groups of Bars', fontname='Times New Roman', fontsize=14)\n",
    "ax.set_xticks(group1)  \n",
    "ax.set_xticklabels(['Q3', 'Q4', 'Q5', 'Q6', 'Q7'])\n",
    "ax.xaxis.set_major_locator(MaxNLocator(integer=True))  \n",
    "#ax.set_xticklabels(group1, fontname='Times New Roman', fontsize=10)\n",
    "ax.legend()\n",
    "\n",
    "plt.tight_layout()\n",
    "#plt.savefig('histogram_properties.pdf', format='pdf')\n",
    "\n",
    "plt.show()"
   ]
  },
  {
   "cell_type": "code",
   "execution_count": 18,
   "id": "369a81b7",
   "metadata": {},
   "outputs": [
    {
     "data": {
      "image/png": "[encoded data removed]",
      "text/plain": [
       "<Figure size 432x288 with 1 Axes>"
      ]
     },
     "metadata": {
      "needs_background": "light"
     },
     "output_type": "display_data"
    }
   ],
   "source": [
    "group1 = [0,1,2,3]\n",
    "data1 = [61, 8, 58, 1]\n",
    "\n",
    "bar_width = 0.8\n",
    "fig, ax = plt.subplots(figsize=(6, 4))  \n",
    "bar1 = [x for x in group1]\n",
    "rects1 = ax.bar(bar1, data1, bar_width, label='A1', color='#1F77B4', alpha=0.7)\n",
    "\n",
    "ax.set_xlabel('Question', fontname='Times New Roman', fontsize=16)\n",
    "ax.set_ylabel('At Least 2 Yes-Answers', fontname='Times New Roman', fontsize=16)\n",
    "ax.set_ylim([0, 127])\n",
    "\n",
    "ax.set_xticks(group1)  \n",
    "ax.set_xticklabels(['Q3', 'Q4', 'Q5', 'Q6'])\n",
    "\n",
    "ax.xaxis.set_major_locator(MaxNLocator(integer=True))\n",
    "\n",
    "plt.tight_layout()\n",
    "# plt.savefig('histogram_properties.pdf', format='pdf')\n",
    "\n",
    "plt.show()"
   ]
  },
  {
   "cell_type": "code",
   "execution_count": null,
   "id": "3d000c0f-12c3-45bf-967c-253aa7a996db",
   "metadata": {},
   "outputs": [],
   "source": []
  },
  {
   "cell_type": "code",
   "execution_count": null,
   "id": "ae0a1e53-7015-4522-8b9e-a7827594bdea",
   "metadata": {},
   "outputs": [],
   "source": []
  }
 ],
 "metadata": {
  "kernelspec": {
   "display_name": "Python 3",
   "language": "python",
   "name": "python3"
  },
  "language_info": {
   "codemirror_mode": {
    "name": "ipython",
    "version": 3
   },
   "file_extension": ".py",
   "mimetype": "text/x-python",
   "name": "python",
   "nbconvert_exporter": "python",
   "pygments_lexer": "ipython3",
   "version": "3.9.16"
  }
 },
 "nbformat": 4,
 "nbformat_minor": 5
}
